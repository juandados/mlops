{
 "cells": [
  {
   "cell_type": "markdown",
   "metadata": {},
   "source": [
    "# Quering an Web Service"
   ]
  },
  {
   "cell_type": "code",
   "execution_count": 4,
   "metadata": {},
   "outputs": [
    {
     "name": "stdout",
     "output_type": "stream",
     "text": [
      "<Response [200]>\n",
      "{'used': False, 'source': 'api', 'type': 'cat', 'deleted': False, '_id': '591f9894d369931519ce358b', '__v': 0, 'text': 'Cats lose almost as much fluid in the saliva while grooming themselves as they do through urination.', 'updatedAt': '2020-08-23T20:20:01.611Z', 'createdAt': '2018-04-26T20:20:02.740Z', 'status': {'verified': True, 'sentCount': 1}, 'user': '5a9ac18c7478810ea6c06381'}\n",
      "Cats lose almost as much fluid in the saliva while grooming themselves as they do through urination.\n"
     ]
    }
   ],
   "source": [
    "import requests\n",
    "result = requests.get(\"http://cat-fact.herokuapp.com/facts/random\")\n",
    "print(result)\n",
    "print(result.json())\n",
    "print(result.json()['text'])"
   ]
  },
  {
   "cell_type": "markdown",
   "metadata": {},
   "source": [
    "# Quering the echo Service"
   ]
  },
  {
   "cell_type": "markdown",
   "metadata": {},
   "source": [
    "After running the echo.py service implemented using flask here is how to make requests to it:"
   ]
  },
  {
   "cell_type": "code",
   "execution_count": 6,
   "metadata": {},
   "outputs": [
    {
     "name": "stdout",
     "output_type": "stream",
     "text": [
      "{'response': 'HelloWorld!', 'success': True}\n"
     ]
    }
   ],
   "source": [
    "import requests\n",
    "result = requests.get(\"http://3.14.81.252:5000/?msg=HelloWorld!\")\n",
    "print(result.json())"
   ]
  },
  {
   "cell_type": "code",
   "execution_count": 10,
   "metadata": {},
   "outputs": [
    {
     "name": "stdout",
     "output_type": "stream",
     "text": [
      "{'response': 'HelloWorld!', 'success': True}\n"
     ]
    }
   ],
   "source": [
    "result = requests.get(\"http://3.14.81.252:5000/\",params={\"msg\":\"Hello from params\"})\n",
    "print(result.json())"
   ]
  },
  {
   "cell_type": "code",
   "execution_count": 25,
   "metadata": {},
   "outputs": [
    {
     "name": "stdout",
     "output_type": "stream",
     "text": [
      "{'response': 'Hello from data', 'success': True}\n"
     ]
    }
   ],
   "source": [
    "result = requests.post(\"http://3.14.81.252:5000/\",params={\"msg\":\"Hello from data\"})\n",
    "print(result.json())"
   ]
  },
  {
   "cell_type": "code",
   "execution_count": 26,
   "metadata": {},
   "outputs": [],
   "source": [
    "import matplotlib.pyplot as plt\n",
    "import numpy as np\n",
    "from PIL import Image\n",
    "import io\n",
    "import base64"
   ]
  },
  {
   "cell_type": "code",
   "execution_count": 27,
   "metadata": {},
   "outputs": [
    {
     "data": {
      "text/plain": [
       "<matplotlib.image.AxesImage at 0x7f487ed60c70>"
      ]
     },
     "execution_count": 27,
     "metadata": {},
     "output_type": "execute_result"
    },
    {
     "data": {
      "image/png": "[encoded data removed]",
      "text/plain": [
       "<Figure size 432x288 with 1 Axes>"
      ]
     },
     "metadata": {
      "needs_background": "light"
     },
     "output_type": "display_data"
    }
   ],
   "source": [
    "image = open(\"luna.png\",\"rb\").read()\n",
    "encoded = base64.b64encode(image)\n",
    "result = requests.post(\"http://3.14.81.252:5000/\",\n",
    "                    params={'msg':encoded})\n",
    "encoded = result.json()['response']\n",
    "imgData = base64.b64decode(encoded)\n",
    "plt.imshow(np.array(Image.open(io.BytesIO(imgData))))"
   ]
  },
  {
   "cell_type": "markdown",
   "metadata": {},
   "source": [
    "## Deploying a Models in a web service"
   ]
  },
  {
   "cell_type": "markdown",
   "metadata": {},
   "source": [
    "### Sklearn Models"
   ]
  },
  {
   "cell_type": "code",
   "execution_count": 28,
   "metadata": {},
   "outputs": [
    {
     "data": {
      "text/plain": [
       "LogisticRegression()"
      ]
     },
     "execution_count": 28,
     "metadata": {},
     "output_type": "execute_result"
    }
   ],
   "source": [
    "import pandas as pd\n",
    "from sklearn.linear_model import LogisticRegression\n",
    "df = pd.read_csv(\"https://github.com/bgweber/Twitch/raw/master/Recommendations/games-expand.csv\")\n",
    "\n",
    "X = df.drop(['label'],axis=1)\n",
    "y = df['label']\n",
    "\n",
    "model = LogisticRegression()\n",
    "model.fit(X,y)"
   ]
  },
  {
   "cell_type": "markdown",
   "metadata": {},
   "source": [
    "#### Using Pickle"
   ]
  },
  {
   "cell_type": "code",
   "execution_count": 2,
   "metadata": {},
   "outputs": [],
   "source": [
    "import pickle\n",
    "with open(\"logit.pkl\",\"wb\") as file:\n",
    "    pickle.dump(model, file)"
   ]
  },
  {
   "cell_type": "code",
   "execution_count": 3,
   "metadata": {},
   "outputs": [
    {
     "name": "stdout",
     "output_type": "stream",
     "text": [
      "[[0.93124982 0.06875018]\n",
      " [0.86491573 0.13508427]]\n"
     ]
    }
   ],
   "source": [
    "with open(\"logit.pkl\",\"rb\") as file:\n",
    "    model = pickle.load(file)\n",
    "    print(model.predict_proba(X)[:2])"
   ]
  },
  {
   "cell_type": "markdown",
   "metadata": {},
   "source": [
    "#### Using MLFlow"
   ]
  },
  {
   "cell_type": "code",
   "execution_count": 4,
   "metadata": {},
   "outputs": [],
   "source": [
    "import mlflow\n",
    "import shutil\n",
    "\n",
    "model_path = \"models/logit_games_v1\"\n",
    "shutil.rmtree(model_path)\n",
    "mlflow.sklearn.save_model(model, model_path)"
   ]
  },
  {
   "cell_type": "code",
   "execution_count": 5,
   "metadata": {},
   "outputs": [
    {
     "name": "stderr",
     "output_type": "stream",
     "text": [
      "/root/.local/share/virtualenvs/mlops-sKEcTriU/lib/python3.8/site-packages/ipykernel/ipkernel.py:287: DeprecationWarning: `should_run_async` will not call `transform_cell` automatically in the future. Please pass the result to `transformed_cell` argument and any exception that happen during thetransform in `preprocessing_exc_tuple` in IPython 7.17 and above.\n",
      "  and should_run_async(code)\n"
     ]
    },
    {
     "data": {
      "text/plain": [
       "array([[0.93124982, 0.06875018],\n",
       "       [0.86491573, 0.13508427]])"
      ]
     },
     "execution_count": 5,
     "metadata": {},
     "output_type": "execute_result"
    }
   ],
   "source": [
    "loaded = mlflow.sklearn.load_model(model_path)\n",
    "loaded.predict_proba(X[:2])"
   ]
  },
  {
   "cell_type": "markdown",
   "metadata": {},
   "source": [
    "## Keras"
   ]
  },
  {
   "cell_type": "code",
   "execution_count": 51,
   "metadata": {},
   "outputs": [],
   "source": [
    "import tensorflow as tf"
   ]
  },
  {
   "cell_type": "code",
   "execution_count": 52,
   "metadata": {},
   "outputs": [],
   "source": [
    "model = tf.keras.models.Sequential([tf.keras.layers.Dense(64, activation='relu', input_shape=(10,)),\n",
    "                                    tf.keras.layers.Dropout(0.1),\n",
    "                                    tf.keras.layers.Dense(64, activation='relu'),\n",
    "                                    tf.keras.layers.Dense(1, activation='sigmoid')\n",
    "                                   ])"
   ]
  },
  {
   "cell_type": "markdown",
   "metadata": {},
   "source": [
    "We can define our coustume functions as saving them. This implementation idea from [here](https://towardsdatascience.com/custom-metrics-in-keras-and-how-simple-they-are-to-use-in-tensorflow2-2-6d079c2ca279) or run ``tf.keras.metrics.Metric?`` To see a simple example of implementation. Another alternative without Metric class inheritance is [this](https://datascience.stackexchange.com/questions/45165/how-to-get-accuracy-f1-precision-and-recall-for-a-keras-model)"
   ]
  },
  {
   "cell_type": "code",
   "execution_count": 70,
   "metadata": {},
   "outputs": [],
   "source": [
    "class F1Metric(tf.keras.metrics.Metric):\n",
    "    \"\"\"\n",
    "    A custom Keras metric to compute the running average of the confusion matrix\n",
    "    \"\"\"\n",
    "    def __init__(self, num_classes=2, name='f1_score', **kwargs):\n",
    "        super(F1Metric, self).__init__(name=name, **kwargs)\n",
    "        self.num_classes=num_classes\n",
    "        self.total_cm = self.add_weight(\"total\", shape=(num_classes,num_classes), initializer=\"zeros\")\n",
    "        \n",
    "    def reset_states(self):\n",
    "        for s in self.variables:\n",
    "            s.assign(tf.zeros(shape=s.shape))\n",
    "            \n",
    "    def update_state(self, y_true, y_pred,sample_weight=None):\n",
    "        self.total_cm.assign_add(self.confusion_matrix(y_true,y_pred))\n",
    "        return self.total_cm\n",
    "        \n",
    "    def result(self):\n",
    "        return self.process_confusion_matrix()\n",
    "    \n",
    "    def confusion_matrix(self,y_true, y_pred):\n",
    "        \"\"\"\n",
    "        Make a confusion matrix\n",
    "        \"\"\"\n",
    "        y_pred=tf.argmax(y_pred,1)\n",
    "        cm=tf.math.confusion_matrix(y_true,y_pred,dtype=tf.float32,num_classes=self.num_classes)\n",
    "        return cm\n",
    "    \n",
    "    def process_confusion_matrix(self):\n",
    "        \"returns precision, recall and f1 along with overall accuracy\"\n",
    "        cm=self.total_cm\n",
    "        diag_part=tf.linalg.diag_part(cm)\n",
    "        precision=diag_part/(tf.reduce_sum(cm,0)+tf.constant(1e-15))\n",
    "        recall=diag_part/(tf.reduce_sum(cm,1)+tf.constant(1e-15))\n",
    "        f1=2*precision*recall/(precision+recall+tf.constant(1e-15))\n",
    "        return f1[0]"
   ]
  },
  {
   "cell_type": "code",
   "execution_count": 66,
   "metadata": {},
   "outputs": [],
   "source": [
    "#Second alternative:\n",
    "from tensorflow.keras import backend as K\n",
    "\n",
    "def recall_m(y_true, y_pred):\n",
    "    true_positives = K.sum(K.round(K.clip(y_true * y_pred, 0, 1)))\n",
    "    possible_positives = K.sum(K.round(K.clip(y_true, 0, 1)))\n",
    "    recall = true_positives / (possible_positives + K.epsilon())\n",
    "    return recall\n",
    "\n",
    "def precision_m(y_true, y_pred):\n",
    "    true_positives = K.sum(K.round(K.clip(y_true * y_pred, 0, 1)))\n",
    "    predicted_positives = K.sum(K.round(K.clip(y_pred, 0, 1)))\n",
    "    precision = true_positives / (predicted_positives + K.epsilon())\n",
    "    return precision\n",
    "\n",
    "def f1_m(y_true, y_pred):\n",
    "    precision = precision_m(y_true, y_pred)\n",
    "    recall = recall_m(y_true, y_pred)\n",
    "    return 2*((precision*recall)/(precision+recall+K.epsilon()))"
   ]
  },
  {
   "cell_type": "markdown",
   "metadata": {},
   "source": [
    "**Note:** Check why this two are different!"
   ]
  },
  {
   "cell_type": "code",
   "execution_count": 77,
   "metadata": {},
   "outputs": [],
   "source": [
    "model.compile(optimizer='rmsprop',loss='binary_crossentropy', \n",
    "              metrics=[tf.keras.metrics.AUC(), f1_m, F1Metric()])"
   ]
  },
  {
   "cell_type": "code",
   "execution_count": 78,
   "metadata": {},
   "outputs": [
    {
     "name": "stdout",
     "output_type": "stream",
     "text": [
      "Epoch 1/10\n",
      "184/184 [==============================] - 1s 4ms/step - loss: 0.3142 - auc_3: 0.8159 - f1_m: 0.2556 - f1_score: 0.9269 - val_loss: 0.2939 - val_auc_3: 0.8183 - val_f1_m: 0.0093 - val_f1_score: 0.9376\n",
      "Epoch 2/10\n",
      "184/184 [==============================] - 0s 2ms/step - loss: 0.3141 - auc_3: 0.8148 - f1_m: 0.2565 - f1_score: 0.9269 - val_loss: 0.2894 - val_auc_3: 0.8185 - val_f1_m: 0.0070 - val_f1_score: 0.9376\n",
      "Epoch 3/10\n",
      "184/184 [==============================] - 1s 3ms/step - loss: 0.3136 - auc_3: 0.8163 - f1_m: 0.2627 - f1_score: 0.9269 - val_loss: 0.2861 - val_auc_3: 0.8255 - val_f1_m: 0.0024 - val_f1_score: 0.9376\n",
      "Epoch 4/10\n",
      "184/184 [==============================] - 0s 2ms/step - loss: 0.3145 - auc_3: 0.8149 - f1_m: 0.2554 - f1_score: 0.9269 - val_loss: 0.2876 - val_auc_3: 0.8186 - val_f1_m: 0.0093 - val_f1_score: 0.9376\n",
      "Epoch 5/10\n",
      "184/184 [==============================] - 0s 2ms/step - loss: 0.3134 - auc_3: 0.8179 - f1_m: 0.2612 - f1_score: 0.9269 - val_loss: 0.2877 - val_auc_3: 0.8219 - val_f1_m: 0.0093 - val_f1_score: 0.9376\n",
      "Epoch 6/10\n",
      "184/184 [==============================] - 0s 2ms/step - loss: 0.3145 - auc_3: 0.8153 - f1_m: 0.2523 - f1_score: 0.9269 - val_loss: 0.2902 - val_auc_3: 0.8207 - val_f1_m: 0.0070 - val_f1_score: 0.9376\n",
      "Epoch 7/10\n",
      "184/184 [==============================] - 1s 5ms/step - loss: 0.3132 - auc_3: 0.8168 - f1_m: 0.2580 - f1_score: 0.9269 - val_loss: 0.2850 - val_auc_3: 0.8294 - val_f1_m: 0.0093 - val_f1_score: 0.9376\n",
      "Epoch 8/10\n",
      "184/184 [==============================] - 1s 3ms/step - loss: 0.3138 - auc_3: 0.8172 - f1_m: 0.2506 - f1_score: 0.9269 - val_loss: 0.2885 - val_auc_3: 0.8196 - val_f1_m: 0.0070 - val_f1_score: 0.9376\n",
      "Epoch 9/10\n",
      "184/184 [==============================] - 1s 3ms/step - loss: 0.3133 - auc_3: 0.8169 - f1_m: 0.2603 - f1_score: 0.9269 - val_loss: 0.2879 - val_auc_3: 0.8214 - val_f1_m: 0.0046 - val_f1_score: 0.9376\n",
      "Epoch 10/10\n",
      "184/184 [==============================] - 1s 3ms/step - loss: 0.3138 - auc_3: 0.8164 - f1_m: 0.2607 - f1_score: 0.9269 - val_loss: 0.2896 - val_auc_3: 0.8177 - val_f1_m: 0.0069 - val_f1_score: 0.9376\n"
     ]
    }
   ],
   "source": [
    "history = model.fit(X, y, epochs=10, batch_size=100, validation_split=0.2)"
   ]
  },
  {
   "cell_type": "code",
   "execution_count": 79,
   "metadata": {},
   "outputs": [
    {
     "data": {
      "text/plain": [
       "[<matplotlib.lines.Line2D at 0x7f5ebee59490>]"
      ]
     },
     "execution_count": 79,
     "metadata": {},
     "output_type": "execute_result"
    },
    {
     "data": {
      "image/png": "[encoded data removed]",
      "text/plain": [
       "<Figure size 432x288 with 1 Axes>"
      ]
     },
     "metadata": {
      "needs_background": "light"
     },
     "output_type": "display_data"
    }
   ],
   "source": [
    "import matplotlib.pyplot as plt\n",
    "plt.plot(history.history['loss'], label='training loss')\n",
    "plt.plot(history.history['val_loss'], label='validation loss')"
   ]
  },
  {
   "cell_type": "code",
   "execution_count": 80,
   "metadata": {},
   "outputs": [
    {
     "data": {
      "text/plain": [
       "<matplotlib.legend.Legend at 0x7f5ebee1afd0>"
      ]
     },
     "execution_count": 80,
     "metadata": {},
     "output_type": "execute_result"
    },
    {
     "data": {
      "image/png": "[encoded data removed]",
      "text/plain": [
       "<Figure size 432x288 with 1 Axes>"
      ]
     },
     "metadata": {
      "needs_background": "light"
     },
     "output_type": "display_data"
    }
   ],
   "source": [
    "plt.plot(history.history['f1_m'], label='training auc')\n",
    "plt.plot(history.history['val_f1_m'], label='validation auc')\n",
    "plt.legend()"
   ]
  },
  {
   "cell_type": "markdown",
   "metadata": {},
   "source": [
    "### Saving the model using Keras"
   ]
  },
  {
   "cell_type": "markdown",
   "metadata": {},
   "source": [
    "We can save this model using keras, however to load it we will need the custom metrics we define"
   ]
  },
  {
   "cell_type": "code",
   "execution_count": 81,
   "metadata": {},
   "outputs": [],
   "source": [
    "model.save(\"games.h5\")"
   ]
  },
  {
   "cell_type": "code",
   "execution_count": 82,
   "metadata": {},
   "outputs": [
    {
     "data": {
      "text/plain": [
       "<tensorflow.python.keras.engine.sequential.Sequential at 0x7f5ebedc37f0>"
      ]
     },
     "execution_count": 82,
     "metadata": {},
     "output_type": "execute_result"
    }
   ],
   "source": [
    "tf.keras.models.load_model(\"games.h5\",custom_objects={'f1_m':f1_m, \"F1Metric\":F1Metric})"
   ]
  },
  {
   "cell_type": "code",
   "execution_count": 85,
   "metadata": {},
   "outputs": [
    {
     "name": "stdout",
     "output_type": "stream",
     "text": [
      "716/716 [==============================] - 1s 1ms/step - loss: 0.3065 - auc_3: 0.8185 - f1_m: 0.1466 - f1_score: 0.9290\n"
     ]
    },
    {
     "data": {
      "text/plain": [
       "[0.3065178692340851,\n",
       " 0.8185286521911621,\n",
       " 0.1466277837753296,\n",
       " 0.9290223121643066]"
      ]
     },
     "execution_count": 85,
     "metadata": {},
     "output_type": "execute_result"
    }
   ],
   "source": [
    "model.evaluate(X,y)"
   ]
  },
  {
   "cell_type": "markdown",
   "metadata": {},
   "source": [
    "### Saving the model Using MLflow"
   ]
  },
  {
   "cell_type": "code",
   "execution_count": 93,
   "metadata": {},
   "outputs": [],
   "source": [
    "rm -rf /mlops/notebooks/models/keras_games_v1"
   ]
  },
  {
   "cell_type": "code",
   "execution_count": 94,
   "metadata": {},
   "outputs": [
    {
     "data": {
      "text/plain": [
       "[0.3065178692340851,\n",
       " 0.8185286521911621,\n",
       " 0.1466277837753296,\n",
       " 0.9290223121643066]"
      ]
     },
     "execution_count": 94,
     "metadata": {},
     "output_type": "execute_result"
    }
   ],
   "source": [
    "import mlflow.keras\n",
    "model_path = \"models/keras_games_v1\"\n",
    "mlflow.keras.save_model(model, model_path)\n",
    "loaded = mlflow.keras.load_model(model_path,\n",
    "custom_objects={'f1_m':f1_m, \"F1Metric\":F1Metric})\n",
    "loaded.evaluate(X, y, verbose = 0)"
   ]
  }
 ],
 "metadata": {
  "kernelspec": {
   "display_name": "Python 3",
   "language": "python",
   "name": "python3"
  },
  "language_info": {
   "codemirror_mode": {
    "name": "ipython",
    "version": 3
   },
   "file_extension": ".py",
   "mimetype": "text/x-python",
   "name": "python",
   "nbconvert_exporter": "python",
   "pygments_lexer": "ipython3",
   "version": "3.8.6"
  }
 },
 "nbformat": 4,
 "nbformat_minor": 4
}
